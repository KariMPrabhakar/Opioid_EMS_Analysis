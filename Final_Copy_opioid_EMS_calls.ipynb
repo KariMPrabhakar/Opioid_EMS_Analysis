{
  "nbformat": 4,
  "nbformat_minor": 0,
  "metadata": {
    "colab": {
      "provenance": []
    },
    "kernelspec": {
      "name": "python3",
      "display_name": "Python 3"
    },
    "language_info": {
      "name": "python"
    }
  },
  "cells": [
    {
      "cell_type": "code",
      "source": [
        "# Business Question - \"What are the key factors associated with the administration of Narcan during opioid-related EMS calls,\n",
        "# and how do these factors vary across different demographic groups, times of the day, or geographic locations?\"\n",
        "\n",
        "# This question aims to understand the circumstances under which Narcan, an opioid overdose reversal medication,\n",
        "# is administered during EMS calls. By examining the relationship between Narcan_Given and other variables such as demographic information\n",
        "# (age, ASU status, veteran status, homelessness), time of the day, and geographic location, we may uncover patterns or insights that could be valuable for emergency response planning,\n",
        "# resource allocation, and public health interventions.\n"
      ],
      "metadata": {
        "id": "Hi1gb93npgyn"
      },
      "execution_count": 1,
      "outputs": []
    },
    {
      "cell_type": "code",
      "source": [
        "#1 Steps to load file from google drive\n",
        "\n",
        "from google.colab import drive\n",
        "drive.mount('/content/drive')\n",
        "\n"
      ],
      "metadata": {
        "colab": {
          "base_uri": "https://localhost:8080/"
        },
        "id": "1lP1Div6pRTF",
        "outputId": "206dc2f8-6726-4581-f762-ed9b6f495e8c"
      },
      "execution_count": 2,
      "outputs": [
        {
          "output_type": "stream",
          "name": "stdout",
          "text": [
            "Drive already mounted at /content/drive; to attempt to forcibly remount, call drive.mount(\"/content/drive\", force_remount=True).\n"
          ]
        }
      ]
    },
    {
      "cell_type": "code",
      "source": [
        "#2 Read the file in python (pd)\n",
        "import pandas as pd\n",
        "EMS_df = pd.read_csv('/content/drive/MyDrive/Opioid_EMS_Calls.csv')\n"
      ],
      "metadata": {
        "id": "o_NdjZewkUSE"
      },
      "execution_count": 3,
      "outputs": []
    },
    {
      "cell_type": "code",
      "source": [
        "#3 I need to load my additional libraries so that I can create graphs and other visualizations\n",
        "\n",
        "\n",
        "import matplotlib.pyplot as plt\n",
        "import seaborn as sns"
      ],
      "metadata": {
        "id": "MxsAdDowRSJK"
      },
      "execution_count": 4,
      "outputs": []
    },
    {
      "cell_type": "code",
      "source": [
        "#4 I want to see my columns so I can work with the names\n",
        "\n",
        "#print(EMS_df.columns)"
      ],
      "metadata": {
        "id": "pEirqXE4QHNf"
      },
      "execution_count": 5,
      "outputs": []
    },
    {
      "cell_type": "code",
      "source": [
        "#5 I want to conduct some Exploratory Data Analysis (EDA)\n",
        "\n",
        "## I can look at the first few rows of dataset for a quick overview of all the column headings with their first few rows of data\n",
        "## This dataset appears to be related to incidents involving opioids, with info about the date, time, location, and characteristics of the individuals involved\n",
        "\n",
        "#EMS_df.head()"
      ],
      "metadata": {
        "id": "25z8poqxOtOV"
      },
      "execution_count": 6,
      "outputs": []
    },
    {
      "cell_type": "code",
      "source": [
        "#6 EDA cont. I want to view data types and missing values. Viewing data types is important as I may need to convert certain pieces of data to fit my purposes\n",
        "# (ie. numerial for ML)\n",
        "# I can calculate missing values by taking total non-null values of 2743 and subtracting from the non null for that data ie. month (2743-2407=336 missing in month)\n",
        "# Note: float - numbers with decimals, int - whole number decimal, object - any type of data\n",
        "\n",
        "#print(EMS_df.info())"
      ],
      "metadata": {
        "id": "Qe8CaJMZUBW_"
      },
      "execution_count": 7,
      "outputs": []
    },
    {
      "cell_type": "code",
      "source": [
        "#7 EDA cont. I can run basic summary statistics, providing me with statistic summaries of only the numerical columns in the DataFrame\n",
        "# This gives me a quick glimpse into central tendency, variability, and distribution of the dataset, outliers and spread\n",
        "# Note: count - no. of data points, mean - avg value of data, std - variation and spread, min and mix - range of values, percentiles - distribution\n",
        "# Note - non-null means the filled in and valuable X values\n",
        "\n",
        "#print(EMS_df.describe())"
      ],
      "metadata": {
        "id": "h0tYluMrOydS"
      },
      "execution_count": 8,
      "outputs": []
    },
    {
      "cell_type": "code",
      "source": [
        "# This plot illustrates the distribution of gender for those that were reported yes to opioid use, indicating that the majority of the opioid use corresponds to females.\n",
        "\n",
        "data = {'Gender': ['Female', 'Male', 'Unknown (Unable to Determine)', 'Female', 'Male', 'Female', 'Unknown (Unable to Determine)', 'Male'],\n",
        "        'Opioid_Use': ['Yes', 'No', 'Unknown', 'Yes', 'Unknown', 'No', 'No', 'Yes']}\n",
        "df = pd.DataFrame(data)\n",
        "\n",
        "# Filter the dataset for opioid use 'Yes'\n",
        "opioid_yes_df = df[df['Opioid_Use'] == 'Yes']\n",
        "\n",
        "# Now you can perform further analysis or visualizations on the opioid_yes_df\n",
        "# For example, let's visualize the distribution of gender within the 'Yes' responses\n",
        "plt.figure(figsize=(8, 5))\n",
        "sns.countplot(x='Gender', data=opioid_yes_df, palette='viridis')\n",
        "plt.title('Distribution of Gender in Opioid Use (Yes) Responses')\n",
        "#plt.show()\n",
        "\n",
        "# Conclusion: The bar plot illustrates the distribution of gender within the subset of opioid-related incidents where opioid use is recorded as 'Yes.' The visual representation showcases the count of male,\n",
        "# female, and cases where gender is unknown. This focused analysis provides insights into the gender distribution specifically among cases where opioids were confirmed to be used.\"\n",
        "# Note: Narcan may have been administered in incidents where opioid use was reported as 'No' due to factors such as observed symptoms, uncertainties in self-reporting, or other clinical considerations."
      ],
      "metadata": {
        "colab": {
          "base_uri": "https://localhost:8080/",
          "height": 504
        },
        "id": "GYpb2jsEjiA9",
        "outputId": "fc23d20e-7a0d-4fd7-f49a-f2522b686a90"
      },
      "execution_count": 9,
      "outputs": [
        {
          "output_type": "execute_result",
          "data": {
            "text/plain": [
              "Text(0.5, 1.0, 'Distribution of Gender in Opioid Use (Yes) Responses')"
            ]
          },
          "metadata": {},
          "execution_count": 9
        },
        {
          "output_type": "display_data",
          "data": {
            "text/plain": [
              "<Figure size 800x500 with 1 Axes>"
            ],
            "image/png": "[encoded data removed]"
          },
          "metadata": {}
        }
      ]
    },
    {
      "cell_type": "code",
      "source": [],
      "metadata": {
        "id": "Vtg-qm99rkcf"
      },
      "execution_count": 13,
      "outputs": []
    },
    {
      "cell_type": "code",
      "source": [
        "#11 Naran given across specific populations\n",
        "\n",
        "# Filter the dataset\n",
        "filtered_EMS_df = EMS_df[EMS_df['Spec_Pop'].isin(['Homeless', 'Veteran', 'ASU Student', 'Veteran/Homeless', 'ASU Student/Homeless', 'Veteran / Homeless'])]\n",
        "\n",
        "# Consolidate 'Homeless/Veteran' and 'Homeless / Veteran'\n",
        "EMS_df['Spec_Pop'] = EMS_df['Spec_Pop'].replace({'Homeless / Veteran': 'Homeless/Veteran'})\n",
        "\n",
        "# Filter out 'None' and 'No' categories (excluding 'Unknown')\n",
        "filtered_EMS_df = EMS_df[EMS_df['Spec_Pop'].isin(['Homeless', 'Veteran', 'ASU Student', 'Homeless/Veteran', 'ASU Student/Homeless'])]\n",
        "\n",
        "plt.figure(figsize=(12, 6))\n",
        "\n",
        "# Create the countplot with counts and vertical orientation\n",
        "sns.countplot(data=filtered_EMS_df, x='Spec_Pop', hue='Narcan_Given', order=['ASU Student', 'ASU Student/Homeless', 'Homeless', 'Veteran', 'Homeless/Veteran'], palette='muted')\n",
        "\n",
        "# Set legend labels\n",
        "plt.legend(title='Narcan Given', labels=['No', 'Yes'])\n",
        "\n",
        "# Rotate x-axis labels\n",
        "plt.xticks(rotation=45)\n",
        "\n",
        "# Add text annotations for the count of incidents for each category\n",
        "for p in plt.gca().patches:\n",
        "    plt.gca().annotate(f'{p.get_height()}', (p.get_x() + p.get_width() / 2., p.get_height()), ha='center', va='center', xytext=(0, -10), textcoords='offset points')\n",
        "\n",
        "plt.title('Narcan Given Incidents Across Specific Populations')\n",
        "plt.xlabel('Specific Population')\n",
        "plt.ylabel('Count')\n",
        "#plt.show()\n",
        "\n",
        "\n",
        "# Count of incidents for each specific population category\n",
        "for category in ['ASU Student', 'ASU Student/Homeless', 'Homeless', 'Veteran', 'Homeless/Veteran']:\n",
        "    category_count = filtered_EMS_df[filtered_EMS_df['Spec_Pop'] == category].shape[0]\n",
        "    print(f'The number of incidents for {category}: {category_count}')\n",
        "\n",
        "# Conclusion: Based on the analysis of Narcan given incidents across specific populations, it is observed that the homeless population has the highest count."
      ],
      "metadata": {
        "id": "nYRsf46JjpaY"
      },
      "execution_count": null,
      "outputs": []
    },
    {
      "cell_type": "code",
      "source": [
        "import matplotlib.pyplot as plt\n",
        "import seaborn as sns\n",
        "\n",
        "# Assuming EMS_df is correctly loaded\n",
        "\n",
        "# Filter Narcan_Given for 'Yes'\n",
        "narcan_yes_df = EMS_df[EMS_df['Narcan_Given'] == 'Yes']\n",
        "\n",
        "# Define the order for time of day\n",
        "time_order = ['Morning', 'Afternoon', 'Evening', 'Overnight']\n",
        "\n",
        "# Plot 1: Explore Narcan Administration Across Demographic Groups (AGE DISTRIBUTION)\n",
        "## I want to gain insight into opioid use based on time of day. I am only interested in opioid use\n",
        "# Checking for unique values\n",
        "# unique_values_use = EMS_df['Opioid_Use']\n",
        "# print(unique_values_use)\n",
        "opioid_yes_df = EMS_df[EMS_df['Opioid_Use'] == 'Yes']\n",
        "plt.figure(figsize=(10, 6))\n",
        "sns.countplot(x='Time_of_Day', data=opioid_yes_df, hue='Opioid_Use', palette='viridis', order=time_order)\n",
        "plt.title('Distribution of Opioid Use Incidents Based on Time of Day')\n",
        "plt.xlabel('Time of Day')\n",
        "plt.ylabel('Count')\n",
        "plt.show()\n",
        "# Conclusion: The analysis of the time distribution for EMS calls with opioid use incidents reveals that afternoon and evening are the most prevalent times.\n",
        "# These findings suggest a potential pattern in the timing of opioid-related incidents, emphasizing the importance of resource allocation and emergency response planning during these periods.\n",
        "\n",
        "# Plot 2: Time-based analysis - Narcan time of day for 'Yes' responses\n",
        "# Checking for unique values\n",
        "unique_values_time = narcan_yes_df['Time_of_Day'].unique()\n",
        "print(unique_values_time)\n",
        "\n",
        "# Determine the maximum count for y-axis limit\n",
        "max_count = max(opioid_yes_df['Time_of_Day'].value_counts().max(), narcan_yes_df['Time_of_Day'].value_counts().max())\n",
        "\n",
        "# Create subplots\n",
        "fig, axes = plt.subplots(1, 2, figsize=(15, 6))\n",
        "\n",
        "# Plot 1: Explore Narcan Administration Across Demographic Groups (AGE DISTRIBUTION)\n",
        "axes[0].set_title('Distribution of Opioid Use Incidents Based on Time of Day')\n",
        "axes[0].set_xlabel('Time of Day')\n",
        "axes[0].set_ylabel('Count')\n",
        "sns.countplot(data=opioid_yes_df, x='Time_of_Day', hue='Opioid_Use', palette='viridis', order=time_order, ax=axes[0])\n",
        "\n",
        "# Set common y-axis limit\n",
        "axes[0].set_ylim(0, max_count + 50)\n",
        "\n",
        "# Annotate bars with counts\n",
        "for p in axes[0].patches:\n",
        "    axes[0].annotate(f'{int(p.get_height())}', (p.get_x() + p.get_width() / 2., p.get_height()),\n",
        "                ha='center', va='center', xytext=(0, 10), textcoords='offset points')\n",
        "\n",
        "# Conclusion: The analysis of Narcan given incidents based on time of day reveals that afternoon and evening exhibit the highest counts,\n",
        "# suggesting potential peak periods for opioid-related emergencies.\n",
        "\n",
        "# Plot 2: Time-based analysis - Narcan time of day for 'Yes' responses\n",
        "axes[1].set_title('Narcan Given Incidents Based on Time of Day (Yes Responses)')\n",
        "axes[1].set_xlabel('Time of Day')\n",
        "axes[1].set_ylabel('Count')\n",
        "sns.countplot(data=narcan_yes_df, x='Time_of_Day', palette='viridis', order=time_order, ax=axes[1])\n",
        "\n",
        "# Set common y-axis limit\n",
        "axes[1].set_ylim(0, max_count + 50)\n",
        "\n",
        "# Annotate bars with counts\n",
        "for p in axes[1].patches:\n",
        "    axes[1].annotate(f'{int(p.get_height())}', (p.get_x() + p.get_width() / 2., p.get_height()),\n",
        "                ha='center', va='center', xytext=(0, 10), textcoords='offset points')\n",
        "\n",
        "# Conclusion: The analysis of Narcan given incidents based on time of day reveals that afternoon and evening exhibit the highest counts,\n",
        "# suggesting potential peak periods for opioid-related emergencies.\n",
        "\n",
        "# Adjust layout for better readability\n",
        "plt.tight_layout()\n",
        "\n",
        "# Show the plots\n",
        "#plt.show()\n"
      ],
      "metadata": {
        "id": "vtH_Ip0fA4kJ"
      },
      "execution_count": null,
      "outputs": []
    },
    {
      "cell_type": "code",
      "source": [],
      "metadata": {
        "id": "2jgEYya5A4rg"
      },
      "execution_count": null,
      "outputs": []
    },
    {
      "cell_type": "code",
      "source": [
        "import matplotlib.pyplot as plt\n",
        "import seaborn as sns\n",
        "\n",
        "# Filter out rows where 'Narcan_Given' is 'Not Recorded'\n",
        "EMS_df_filtered = EMS_df[EMS_df['Narcan_Given'] != 'Not Recorded']\n",
        "\n",
        "# Filter Narcan_Given for 'Yes'\n",
        "narcan_yes_df = EMS_df_filtered[EMS_df_filtered['Narcan_Given'] == 'Yes']\n",
        "\n",
        "# Filter out rows where 'Opioid_Use' is 'Unknown' or 'No Response'\n",
        "opioid_yes_df = EMS_df_filtered[EMS_df_filtered['Opioid_Use'] == 'Yes']\n",
        "\n",
        "# Extract year from Incident_Date in the main DataFrame\n",
        "EMS_df_filtered['Year'] = pd.to_datetime(EMS_df_filtered['Incident_Date']).dt.year\n",
        "\n",
        "# Plot Narcan administration and opioid use side by side\n",
        "plt.figure(figsize=(18, 6))\n",
        "\n",
        "# Plot Narcan administration\n",
        "plt.subplot(1, 2, 1)\n",
        "sns.countplot(x='Year', data=narcan_yes_df, hue='Narcan_Given', palette='viridis')\n",
        "plt.title('Narcan Administration Across Years (Yes Responses)')\n",
        "plt.xlabel('Year')\n",
        "plt.ylabel('Count')\n",
        "\n",
        "# Annotate the bars with the exact count\n",
        "for p in plt.gca().patches:\n",
        "    height = p.get_height() if not pd.isna(p.get_height()) else 0\n",
        "    plt.gca().annotate(f'{height}', (p.get_x() + p.get_width() / 2., height),\n",
        "                       ha='center', va='center', xytext=(0, 10), textcoords='offset points')\n",
        "\n",
        "# Plot opioid use incidents\n",
        "plt.subplot(1, 2, 2)\n",
        "sns.countplot(x='Year', data=opioid_yes_df, hue='Opioid_Use', palette='viridis')\n",
        "plt.title('Opioid Use Across Years (Yes Responses)')\n",
        "plt.xlabel('Year')\n",
        "plt.ylabel('Count')\n",
        "\n",
        "# Annotate the bars with the exact count\n",
        "for p in plt.gca().patches:\n",
        "    height = p.get_height() if not pd.isna(p.get_height()) else 0\n",
        "    plt.gca().annotate(f'{height}', (p.get_x() + p.get_width() / 2., height),\n",
        "                       ha='center', va='center', xytext=(0, 10), textcoords='offset points')\n",
        "\n",
        "# Adjust layout for better readability\n",
        "plt.tight_layout()\n",
        "\n",
        "# Show the plot\n",
        "#plt.show()\n",
        "\n",
        "# Conclusion: The analysis of Narcan administration across years reveals a notable increase from 2017 to 2021, indicating a rising trend in opioid-related incidents during this period.\n",
        "# However, in 2022, there is a noticeable drop, possibly due to limited data availability. It's essential to interpret the trends cautiously, considering data completeness for each year.\n",
        "\n",
        "# Conclusion: The analysis of opioid use incidents over the years reveals a fluctuating pattern. Incidents rise from 2017 to 2019, decline in 2020, increase again in 2021,\n",
        "# and show a notable drop thereafter but could be due to limited data.\n",
        "\n",
        "# The analysis of opioid use incidents and Narcan administrations from 2017 to 2021 reveals varying trends, with opioid use incidents showing fluctuations and Narcan administrations\n",
        "# exhibiting an overall increase. There is a generally positive correlation between opioid use incidents and Narcan administrations, suggesting that as opioid use incidents increase,\n",
        "# so do Narcan administrations. However, an anomaly is observed in 2022, where both opioid use incidents and Narcan administrations show a decline, indicating a potential deviation from the\n",
        "# established positive correlation.\n",
        "\n",
        "# The provided data suggests an interesting observation: the number of Narcan administrations appears to be higher than the number of reported opioid use incidents in some years.\n",
        "#This could be due to various factors such as data completedness, narcan for non-opioid related incidents, training and awareness."
      ],
      "metadata": {
        "id": "4oNUtc1RetJ5"
      },
      "execution_count": null,
      "outputs": []
    },
    {
      "cell_type": "code",
      "source": [
        "## Predict Narcan Given or Not\n",
        "\n",
        "import pandas as pd\n",
        "from sklearn.model_selection import train_test_split\n",
        "from sklearn.tree import DecisionTreeClassifier\n",
        "from sklearn.metrics import accuracy_score, confusion_matrix, classification_report\n",
        "from sklearn.preprocessing import LabelEncoder\n",
        "\n",
        "# Load the dataset\n",
        "EMS_df = pd.read_csv('/content/drive/MyDrive/Opioid_EMS_Calls.csv')\n",
        "\n",
        "# Convert 'Narcan_Given' to binary format\n",
        "EMS_df['Narcan_Given'] = EMS_df['Narcan_Given'].apply(lambda x: 1 if x == 'Yes' else 0)\n",
        "\n",
        "# Drop rows with missing values\n",
        "data = EMS_df[['Age', 'Weekday', 'Opioid_Use', 'Spec_Pop', 'Narcan_Given']].dropna()\n",
        "\n",
        "# Convert age ranges to midpoint\n",
        "def age_range_to_midpoint(age_range):\n",
        "    if age_range == 'Unknown':\n",
        "        return None\n",
        "    start, end = map(int, age_range.split(' to '))\n",
        "    return (start + end) / 2\n",
        "\n",
        "data['Age'] = data['Age'].apply(age_range_to_midpoint)\n",
        "\n",
        "# Drop rows with missing values after age conversion\n",
        "data = data.dropna()\n",
        "\n",
        "# Encode categorical variables\n",
        "label_encoder = LabelEncoder()\n",
        "data['Weekday'] = label_encoder.fit_transform(data['Weekday'])\n",
        "data['Opioid_Use'] = label_encoder.fit_transform(data['Opioid_Use'])\n",
        "data['Spec_Pop'] = label_encoder.fit_transform(data['Spec_Pop'])\n",
        "\n",
        "# Separate features and target variable\n",
        "X = data[['Age', 'Weekday', 'Opioid_Use', 'Spec_Pop']]\n",
        "y = data['Narcan_Given']\n",
        "\n",
        "# Split the dataset into training and testing sets\n",
        "X_train, X_test, y_train, y_test = train_test_split(X, y, test_size=0.2, random_state=42)\n",
        "\n",
        "# Build and train the model\n",
        "model = DecisionTreeClassifier(random_state=42)\n",
        "model.fit(X_train, y_train)\n",
        "\n",
        "# Make predictions on the test set\n",
        "y_pred = model.predict(X_test)\n",
        "\n",
        "# Evaluate the model\n",
        "accuracy = accuracy_score(y_test, y_pred)\n",
        "conf_matrix = confusion_matrix(y_test, y_pred)\n",
        "class_report = classification_report(y_test, y_pred)\n",
        "\n",
        "print(f\"Accuracy: {accuracy:.2f}\")\n",
        "print(\"Confusion Matrix:\\n\", conf_matrix)\n",
        "print(\"Classification Report:\\n\", class_report)\n",
        "\n",
        "\n",
        "#Conclusion: 66% precision (orrectly predicted whether Narcan was given or not for 66% of the cases in the test set) for this model can be further refined\n",
        "\n",
        "# Save the trained model to a file in Colab environment\n",
        "joblib.dump(model, 'narcan_prediction_model.joblib')\n",
        "\n",
        "# Move the saved model to Google Drive\n",
        "!mv narcan_prediction_model.joblib '/content/drive/MyDrive/Opioid_EMS_Calls_Proj/'\n",
        "\n",
        "\n",
        "\n",
        "import joblib\n",
        "\n",
        "# Assuming 'model' is the trained DecisionTreeClassifier\n",
        "joblib.dump(model, '/content/drive/MyDrive/Opioid_EMS_Calls_Proj/narcan_prediction_model.joblib')\n",
        "\n",
        "\n",
        "\n",
        "\n"
      ],
      "metadata": {
        "id": "whItTKr8a_jB"
      },
      "execution_count": null,
      "outputs": []
    },
    {
      "cell_type": "code",
      "source": [],
      "metadata": {
        "id": "12qoy0HnAFbm"
      },
      "execution_count": null,
      "outputs": []
    },
    {
      "cell_type": "code",
      "source": [],
      "metadata": {
        "id": "-kIzFKfjAfqK"
      },
      "execution_count": null,
      "outputs": []
    }
  ]
}